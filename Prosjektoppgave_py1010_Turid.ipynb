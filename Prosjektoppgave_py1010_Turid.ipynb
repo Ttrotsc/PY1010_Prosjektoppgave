{
 "cells": [
  {
   "cell_type": "markdown",
   "id": "1180bd64-6c51-4511-8e0a-7e2137546c27",
   "metadata": {},
   "source": [
    "Dette er prosjektoppgave i PY1010 våren 2025\n",
    "Jeg har valgt å bruke standard oppgave."
   ]
  },
  {
   "cell_type": "markdown",
   "id": "8ef2b4bc-486d-4831-b66d-30236368fcc4",
   "metadata": {},
   "source": [
    "I første steg ønsker jeg importere en excelfil for så å undersøke hva feilen inneholder for så å konvertere data til en array"
   ]
  },
  {
   "cell_type": "code",
   "execution_count": 220,
   "id": "8e31c059-e243-4803-96be-272f7955e0ce",
   "metadata": {},
   "outputs": [],
   "source": [
    "import pandas as pd\n",
    "import numpy as np\n",
    "import matplotlib.pyplot as plt"
   ]
  },
  {
   "cell_type": "code",
   "execution_count": 221,
   "id": "403f0f5a-8512-46d0-96ba-41e6c05424d3",
   "metadata": {},
   "outputs": [
    {
     "name": "stdout",
     "output_type": "stream",
     "text": [
      "   Ukedag Klokkeslett  Varighet  Tilfredshet\n",
      "0  Mandag    08:04:16  00:07:12          NaN\n",
      "1  Mandag    08:04:53  00:02:49          6.0\n",
      "2  Mandag    08:06:31  00:08:36          NaN\n",
      "3  Mandag    08:11:21  00:04:34          NaN\n",
      "4  Mandag    08:20:46  00:07:38          NaN\n"
     ]
    }
   ],
   "source": [
    "# Leser inn Excel-filen\n",
    "kundebase = pd.read_excel('support_uke_24.xlsx', sheet_name = \"Morse\")\n",
    "\n",
    "# Viser kolonnenavn og første radene i excelarket for å se hva den inneholder\n",
    "print(kundebase.head())\n",
    "\n",
    "#konverterer så inn de ulike kolonnene som arrays"
   ]
  },
  {
   "cell_type": "code",
   "execution_count": 222,
   "id": "58215af8-edd5-4082-ac66-3e62248e0556",
   "metadata": {},
   "outputs": [],
   "source": [
    "#konverterer så inn de ulike kolonnene som arrays med nye navn\n",
    "u_dag = kundebase ['Ukedag'].values\n",
    "kl_slett = kundebase ['Klokkeslett'].values\n",
    "varighet = kundebase ['Varighet'].values\n",
    "score = kundebase ['Tilfredshet'].values\n"
   ]
  },
  {
   "cell_type": "markdown",
   "id": "f814d765-bbb4-4eb0-8a07-d8d7b1954680",
   "metadata": {},
   "source": [
    "I neste steg ønsker jeg å finne ut hvor mange henvendelser det er som kommer inn for hver av de fem ukedagene og visualisere det med et søylediagram."
   ]
  },
  {
   "cell_type": "code",
   "execution_count": 224,
   "id": "4d1ebd6c-8a95-4ae6-be01-f6dd30ac792d",
   "metadata": {},
   "outputs": [
    {
     "name": "stdout",
     "output_type": "stream",
     "text": [
      "['Fredag' 'Mandag' 'Onsdag' 'Tirsdag' 'Torsdag']\n"
     ]
    }
   ],
   "source": [
    "#finn ut hvilke dager som finnes i basen\n",
    "dager = np.unique(u_dag)\n",
    "print(dager)\n",
    "#når jeg kjenner dagene som er i arrayen lager jeg en ny array som setter dagene i vant rekkefølge\n",
    "dager_sortert = [\"Mandag\", \"Tirsdag\", \"Onsdag\", \"Torsdag\", \"Fredag\"]\n",
    "#Lager så en variabel som kan holde på antall dager slik at jeg kan legge sammen antall ganger dagen forekommer\n",
    "ant_mandag = 0\n",
    "ant_tirsdag = 0\n",
    "ant_onsdag = 0\n",
    "ant_torsdag = 0\n",
    "ant_fredag = 0\n",
    "\n",
    "\n",
    "for dag in u_dag:\n",
    "    if dag == \"Mandag\":\n",
    "      ant_mandag += 1\n",
    "    if dag == \"Tirsdag\":\n",
    "      ant_tirsdag += 1\n",
    "    if dag == \"Onsdag\":\n",
    "      ant_onsdag += 1\n",
    "    if dag == \"Torsdag\":\n",
    "      ant_torsdag += 1\n",
    "    if dag == \"Fredag\":\n",
    "        ant_fredag += 1\n",
    "\n",
    "#Lager så en array med antall henvendelser per dag      \n",
    "ant_henvendelser =[ant_mandag, ant_tirsdag, ant_onsdag, ant_torsdag, ant_fredag]  "
   ]
  },
  {
   "cell_type": "code",
   "execution_count": 252,
   "id": "41578fb2-3f7d-4879-b3f0-8f2b8bf8cd7f",
   "metadata": {},
   "outputs": [
    {
     "data": {
      "image/png": "[encoded data removed]",
      "text/plain": [
       "<Figure size 640x480 with 1 Axes>"
      ]
     },
     "metadata": {},
     "output_type": "display_data"
    }
   ],
   "source": [
    "#Plotter et søylediagram med ønsket farger, tekster og verdier på toppen av søylen og legger til aksetitler og header\n",
    "plt.bar(dager_sortert, ant_henvendelser, color=\"green\", width = 0.3)\n",
    "for i, verdi in enumerate(ant_henvendelser):\n",
    "    plt.text(i, verdi + 0.1, str(verdi), ha='center')\n",
    "\n",
    "plt.title(\"Henvendelser til support\")\n",
    "plt.xlabel(\"Ukedag henvendelsen er mottatt\")\n",
    "plt.ylabel(\"Antall henvendelser\")\n",
    "\n",
    "a = a"
   ]
  },
  {
   "cell_type": "markdown",
   "id": "21f24de4-6068-41ea-b1b6-013377bb2344",
   "metadata": {},
   "source": [
    "I neste steg ønsker jeg å finne ut hva den lengste og korteste samtaletiden er"
   ]
  },
  {
   "cell_type": "code",
   "execution_count": 227,
   "id": "e918328d-d0a8-4d6a-9005-9d83b31a58a1",
   "metadata": {},
   "outputs": [
    {
     "name": "stdout",
     "output_type": "stream",
     "text": [
      "Samtalen med kortest varighet varte i: 00:00:59 , angitt som timer:minutter:sekunder.\n",
      "Samtalen med lengst varighet varte i: 00:11:28 , angitt som timer:minutter:sekunder.\n"
     ]
    }
   ],
   "source": [
    "#sorterer arrayen med varighet, for da vil korteste varighet komme først og lengste varighet sist\n",
    "sortert_lengde = np.sort(varighet)\n",
    "antall_varighet = len(sortert_lengde)\n",
    "print(\"Samtalen med kortest varighet varte i:\", sortert_lengde[0], \", angitt som timer:minutter:sekunder.\")\n",
    "print(\"Samtalen med lengst varighet varte i:\",sortert_lengde[antall_varighet-1], \", angitt som timer:minutter:sekunder.\") \n",
    "\n"
   ]
  },
  {
   "cell_type": "markdown",
   "id": "5f0dce68-6cbd-4f1b-a3ce-2365e0d70ae1",
   "metadata": {},
   "source": [
    "I neste steg ønsker jeg å regne ut hvor lang den gjennomsnittlige samtaletiden er. Dette kan løses ved å konvertere tiden til sekunder, summere den og dele på antall henvendelser"
   ]
  },
  {
   "cell_type": "code",
   "execution_count": 229,
   "id": "f1ee915a-71a2-4823-83da-7d3a649a3ed0",
   "metadata": {},
   "outputs": [
    {
     "name": "stdout",
     "output_type": "stream",
     "text": [
      "Gjennomsnittlig varighet på en samtale er : 6 minutter og 40 sekunder\n"
     ]
    }
   ],
   "source": [
    "#konverter tiden til sekunder og lager en ny array\n",
    "def tid_til_sek (tid):\n",
    "   timer, minutter, sekunder = map(int, tid.split(':'))\n",
    "   return timer * 3600 + minutter * 60 + sekunder\n",
    "\n",
    "varighet_sek =  [tid_til_sek(tid) for tid in varighet]\n",
    "\n",
    "#regner ut sum varighet for så å dele på antall henvendelser\n",
    "total_varighet = sum (varighet_sek)\n",
    "gjennomsnittlig_varighet = int(total_varighet/antall_varighet)\n",
    "\n",
    "\n",
    "# konverterer så sekunder igjen til minutter og sekunder og printer\n",
    "def sek_til_min_sek(sekunder):\n",
    "    minutter = sekunder // 60  # Heltallsdivisjon for å få antall hele minutter\n",
    "    rest_sekunder = sekunder % 60  # Modulo for å få resterende sekunder\n",
    "    return minutter, rest_sekunder\n",
    "\n",
    "minutter, sekunder = sek_til_min_sek(gjennomsnittlig_varighet )\n",
    "\n",
    "print(f\"Gjennomsnittlig varighet på en samtale er : {minutter} minutter og {sekunder} sekunder\")"
   ]
  },
  {
   "cell_type": "markdown",
   "id": "946ed960-c4a2-49ca-865c-f352130c0c8d",
   "metadata": {},
   "source": [
    "I det neste ønsker jeg å finne ut hvor mange henvendelser det er innenfor et gitt tidsintervall"
   ]
  },
  {
   "cell_type": "code",
   "execution_count": 231,
   "id": "9640fc9b-093b-47c8-a62c-5ce866fc7c6c",
   "metadata": {},
   "outputs": [],
   "source": [
    "#henter ut time og lager ny variabel, deretter teller jeg antall henvendelser fer time i grupper\n",
    "\n",
    "kl_slett = pd.to_datetime(kl_slett, format='%H:%M:%S')\n",
    "\n",
    "# Funksjon for å kategorisere klokkeslett i grupper\n",
    "def kategoriser_klokkeslett(tid):\n",
    "  time = tid.hour\n",
    "  if 8 <= time < 10:\n",
    "      return '8-10'\n",
    "  elif 10 <= time < 12:\n",
    "      return '10-12'\n",
    "  elif 12 <= time < 14:\n",
    "       return '12-14'\n",
    "  else:\n",
    "      return '14-16'\n",
    "\n",
    "time = [kategoriser_klokkeslett(tid) for tid in kl_slett]\n",
    "\n",
    "\n",
    "#Lager så en variabel som kan holde på antall ganger tidsslik at jeg kan legge sammen antall ganger tiden forekommer\n",
    "ant_8_10 = 0\n",
    "ant_10_12 = 0\n",
    "ant_12_14 = 0\n",
    "ant_14_16 = 0\n",
    "\n",
    "\n",
    "for supportvakt in time:\n",
    "    if supportvakt == \"8-10\":\n",
    "      ant_8_10 += 1\n",
    "    if supportvakt == \"10-12\":\n",
    "      ant_10_12 += 1\n",
    "    if supportvakt == \"12-14\":\n",
    "      ant_12_14 += 1\n",
    "    if supportvakt == \"14-16\":\n",
    "      ant_14_16 += 1\n",
    "   \n",
    "#Lager så en array med antall henvendelser per kategori      \n",
    "ant_henvendelser_vakt =[ant_8_10, ant_10_12, ant_12_14, ant_14_16]  \n",
    "supportvakt_tider= ['8-10','10-12','12-14','14-16']\n",
    "\n",
    "  "
   ]
  },
  {
   "cell_type": "code",
   "execution_count": 232,
   "id": "75cba7bc-bc1c-4162-9f11-48afb9bacd45",
   "metadata": {},
   "outputs": [
    {
     "data": {
      "image/png": "[encoded data removed]",
      "text/plain": [
       "<Figure size 640x480 with 1 Axes>"
      ]
     },
     "metadata": {},
     "output_type": "display_data"
    }
   ],
   "source": [
    "#Plotter et kakediagram med ulike farger, tekster og verdier på toppen av søylen og legger til aksetitler og header\n",
    "plt.pie(ant_henvendelser_vakt, labels=supportvakt_tider,autopct='%1.1f%%', counterclock=False)\n",
    "plt.title(\"Antall henvendelser (%) per supportvakt i uke 24\")\n",
    "a=a"
   ]
  },
  {
   "cell_type": "markdown",
   "id": "2699c2b6-dab4-4a03-bc98-8813cc012811",
   "metadata": {},
   "source": [
    "I det siste skal kundens tilfredshet vurderes etter hvilken score som er oppgitt og bedriftens NPS skal beregnes. NPS beregnes som andel positive kunder minus andel negative kunder. "
   ]
  },
  {
   "cell_type": "code",
   "execution_count": 234,
   "id": "f207afff-19b8-4211-9cd5-82bc6ac351c7",
   "metadata": {},
   "outputs": [
    {
     "name": "stdout",
     "output_type": "stream",
     "text": [
      "[nan  6. nan nan nan  8. nan nan 10. nan nan nan nan nan nan nan  8. nan\n",
      " nan nan nan nan nan  9. nan nan nan 10. nan 10. nan nan nan nan nan nan\n",
      " nan nan  9. 10. nan nan nan nan nan nan  3.  3. nan 10. nan nan nan nan\n",
      " nan nan nan nan  9.  9. nan nan nan nan nan nan nan nan  9. nan 10. nan\n",
      " nan nan nan 10. nan nan nan nan nan nan nan nan nan  5. nan nan nan nan\n",
      " nan 10. nan nan nan nan nan nan 10. 10. nan nan nan nan nan nan nan nan\n",
      "  1.  9. nan nan  1. nan 10. nan nan nan  5. nan nan nan nan nan nan nan\n",
      " nan  7. nan  9. nan nan nan nan nan nan nan nan nan nan nan 10. nan 10.\n",
      " 10. nan nan nan nan nan nan nan  9.  2.  9. nan nan nan nan nan nan 10.\n",
      " nan 10. nan nan nan nan nan nan  5. nan nan nan nan nan nan nan nan nan\n",
      " nan  7.  7. nan nan nan nan nan nan nan nan nan nan nan 10. nan nan nan\n",
      " nan nan nan nan nan nan nan nan nan nan  1.  9. nan nan nan nan nan nan\n",
      " 10.]\n"
     ]
    }
   ],
   "source": [
    "#Starter med å se på tilfredshetscoren\n",
    "print(score)"
   ]
  },
  {
   "cell_type": "code",
   "execution_count": 235,
   "id": "24b9059f-3e73-4186-b2a5-be1ccddc0f92",
   "metadata": {},
   "outputs": [
    {
     "name": "stdout",
     "output_type": "stream",
     "text": [
      "NPS for supportavdelingen er: 41.9 % \n"
     ]
    }
   ],
   "source": [
    "#Lager så en variabel som kan holde på antall ganger en score opptrer slik at jeg kan legge sammen antall ganger scoren forekommer\n",
    "ant_NA = 0\n",
    "ant_1_6 = 0\n",
    "ant_7_8 = 0\n",
    "ant_9_10 = 0\n",
    "\n",
    "\n",
    "for tilfreds in score:\n",
    "    if  np.isnan (tilfreds): #teller opp alle gangene nan forekommer\n",
    "      ant_NA += 1\n",
    "    elif 1 <= tilfreds <7:\n",
    "      ant_1_6 += 1\n",
    "    elif 7 <= tilfreds <9 :\n",
    "      ant_7_8 += 1\n",
    "    elif 9 <= tilfreds <=10 :\n",
    "      ant_9_10 += 1\n",
    "   \n",
    "#Lager så en array med antall henvendelser per kategori      \n",
    "ant_score_kategori =[ant_NA, ant_1_6, ant_7_8, ant_9_10]  \n",
    "#summerer tallene i arrayen på de \"riktige\" kategoriene \n",
    "ant_svar = sum (ant_score_kategori[1:4])\n",
    "NPS= ((ant_9_10 / ant_svar)-(ant_1_6 / ant_svar ))\n",
    "NPS_prosent = round(NPS * 100, 1)\n",
    "print(f\"NPS for supportavdelingen er: {NPS_prosent} % \")\n",
    "\n"
   ]
  },
  {
   "cell_type": "code",
   "execution_count": null,
   "id": "ef62a436-6cb1-451e-9098-df9208c08294",
   "metadata": {},
   "outputs": [],
   "source": []
  }
 ],
 "metadata": {
  "kernelspec": {
   "display_name": "Python 3 (ipykernel)",
   "language": "python",
   "name": "python3"
  },
  "language_info": {
   "codemirror_mode": {
    "name": "ipython",
    "version": 3
   },
   "file_extension": ".py",
   "mimetype": "text/x-python",
   "name": "python",
   "nbconvert_exporter": "python",
   "pygments_lexer": "ipython3",
   "version": "3.12.4"
  }
 },
 "nbformat": 4,
 "nbformat_minor": 5
}
